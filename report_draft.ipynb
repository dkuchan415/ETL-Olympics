{
 "cells": [
  {
   "cell_type": "markdown",
   "metadata": {},
   "source": [
    "# ELT Project Technical Report"
   ]
  },
  {
   "cell_type": "markdown",
   "metadata": {},
   "source": [
    "For this ETL project, we are looking to [insert goal here]\n",
    "\n",
    "[This would be useful in seeing if there are any regional trends in sports played or trends due to level of income.]\n",
    "\n",
    "[build a collection that will help us see patterns about Olympic events and how it relates to growth of human population.]\n",
    "\n",
    "Questions arose like:\n",
    "    \n",
    "    Does a pattern emerge to show where most Olympic athletes come from? Is it mostly first world countries or no pattern emerges?\n",
    "    Does a country’s general income level affect their representation at Olympic events?\n",
    "\n",
    "The team members are Lenn Grayes, Daniel Kuchan and Alex Torres. \n",
    "    "
   ]
  },
  {
   "cell_type": "markdown",
   "metadata": {},
   "source": [
    "## EXTRACT"
   ]
  },
  {
   "cell_type": "markdown",
   "metadata": {},
   "source": [
    "Our data sources were Olympic historical data from Kaggle, and population data from 1960-2019 and income and region classifications from World bank.\n",
    "\n",
    "For all 3 CSVs, Pandas is used to read the CSV into the DataFrame.\n",
    "\n",
    "Also attached is an image of the ERD in the [Resources] folder."
   ]
  },
  {
   "cell_type": "markdown",
   "metadata": {},
   "source": [
    "## TRANSFORM"
   ]
  },
  {
   "cell_type": "markdown",
   "metadata": {},
   "source": [
    "Describe analysis here:\n",
    "    \n",
    "Data Cleaning\n",
    "\n",
    "Delete any columns that would not be a good fit for an athlete's profile\n",
    "\n",
    "Create a dataframe to represent all unique Olympic Games, with the very first year of the modern Olympic Games 1896 as the index\n",
    "\n",
    "Filter only the unique sporting events\n",
    "\n",
    "Use the transpose function to convert the dataframe to a Pivot table\n",
    "\n",
    "[\n",
    "Selection\n",
    "Joining]\n"
   ]
  },
  {
   "cell_type": "markdown",
   "metadata": {},
   "source": [
    "## LOAD"
   ]
  },
  {
   "cell_type": "markdown",
   "metadata": {},
   "source": [
    "Next we have to connect to the pgAdmin4 database.\n",
    "\n",
    "Pandas is used again to load csvs into database.\n",
    "\n",
    "[Why PostgreSQL?]\n",
    "\n"
   ]
  },
  {
   "cell_type": "markdown",
   "metadata": {},
   "source": [
    "#### If we had the extra time:"
   ]
  },
  {
   "cell_type": "code",
   "execution_count": null,
   "metadata": {},
   "outputs": [],
   "source": []
  }
 ],
 "metadata": {
  "kernelspec": {
   "display_name": "Python 3",
   "language": "python",
   "name": "python3"
  },
  "language_info": {
   "codemirror_mode": {
    "name": "ipython",
    "version": 3
   },
   "file_extension": ".py",
   "mimetype": "text/x-python",
   "name": "python",
   "nbconvert_exporter": "python",
   "pygments_lexer": "ipython3",
   "version": "3.6.10"
  }
 },
 "nbformat": 4,
 "nbformat_minor": 4
}
